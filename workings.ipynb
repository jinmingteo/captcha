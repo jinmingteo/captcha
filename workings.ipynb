{
 "cells": [
  {
   "cell_type": "code",
   "execution_count": 1,
   "id": "2589bc76-7a70-4312-963a-e9d93360a984",
   "metadata": {},
   "outputs": [],
   "source": [
    "import glob\n",
    "files = glob.glob(\"sampleCaptchas/input/*.jpg\")"
   ]
  },
  {
   "cell_type": "code",
   "execution_count": 2,
   "id": "efc81e40-aa94-456e-9590-c0bf5e2443ee",
   "metadata": {},
   "outputs": [],
   "source": [
    "import cv2\n",
    "import random\n",
    "import numpy as np\n",
    "import json\n",
    "\n",
    "img_file = random.choice(files)\n",
    "image_bgr = cv2.imread(img_file)\n",
    "image_rgb = cv2.cvtColor(image_bgr, cv2.COLOR_BGR2RGB)"
   ]
  },
  {
   "cell_type": "code",
   "execution_count": 3,
   "id": "d8174ccd-2fe7-44f6-b370-b5eebc072662",
   "metadata": {},
   "outputs": [
    {
     "data": {
      "image/png": "[encoded data removed]",
      "text/plain": [
       "<Figure size 640x480 with 1 Axes>"
      ]
     },
     "metadata": {},
     "output_type": "display_data"
    }
   ],
   "source": [
    "import matplotlib.pyplot as plt\n",
    "\n",
    "plt.imshow(image_rgb)\n",
    "plt.axis('off')\n",
    "plt.show()"
   ]
  },
  {
   "cell_type": "code",
   "execution_count": 4,
   "id": "a9ecccce-84c4-47d7-8696-e96265a9fcae",
   "metadata": {},
   "outputs": [
    {
     "name": "stdout",
     "output_type": "stream",
     "text": [
      "x, y, w, h :  3 8 50 23\n"
     ]
    }
   ],
   "source": [
    "## synthetic\n",
    "pred_files = glob.glob(\"results/*.json\")\n",
    "all_x, all_y, all_w, all_h = [], [], [], []\n",
    "for pred_file in pred_files:\n",
    "    with open(pred_file) as f:\n",
    "        res = json.load(f) \n",
    "        x, y, w, h = res['rec_boxes'][0]\n",
    "        all_x.append(x)\n",
    "        all_y.append(y)\n",
    "        all_w.append(w)\n",
    "        all_h.append(h)\n",
    "\n",
    "all_x = np.array(all_x)\n",
    "common_x = np.argmax(np.bincount(all_x))\n",
    "\n",
    "all_y = np.array(all_y)\n",
    "common_y = np.argmax(np.bincount(all_y))\n",
    "\n",
    "all_w = np.array(all_w)\n",
    "common_w = np.argmax(np.bincount(all_w))\n",
    "\n",
    "all_h = np.array(all_h)\n",
    "common_h = np.argmax(np.bincount(all_h))\n",
    "\n",
    "print(\"x, y, w, h : \", common_x, common_y, common_w, common_h)"
   ]
  },
  {
   "cell_type": "code",
   "execution_count": 5,
   "id": "4eaa88a0-661b-4a81-a460-4973a4e11eea",
   "metadata": {},
   "outputs": [
    {
     "data": {
      "image/png": "[encoded data removed]",
      "text/plain": [
       "<Figure size 640x480 with 1 Axes>"
      ]
     },
     "metadata": {},
     "output_type": "display_data"
    }
   ],
   "source": [
    "cropped_img = image_rgb[common_y:common_h, common_x:common_w]\n",
    "\n",
    "\n",
    "plt.imshow(cropped_img)\n",
    "plt.axis('off')\n",
    "plt.show()\n",
    "# cv2.imwrite(\"cropped_img.jpg\", cropped_img)"
   ]
  },
  {
   "cell_type": "code",
   "execution_count": 6,
   "id": "42f09e96-72ea-4a95-b340-38dfaee030d7",
   "metadata": {},
   "outputs": [
    {
     "data": {
      "image/png": "[encoded data removed]",
      "text/plain": [
       "<Figure size 640x480 with 1 Axes>"
      ]
     },
     "metadata": {},
     "output_type": "display_data"
    }
   ],
   "source": [
    "character_file = random.choice(glob.glob(\"characters_library/*.jpg\"))\n",
    "character_img = cv2.imread(character_file)\n",
    "plt.imshow(character_img)\n",
    "plt.axis('off')\n",
    "plt.show()"
   ]
  },
  {
   "cell_type": "code",
   "execution_count": null,
   "id": "6d64bcf0-86ca-4f1b-ab8c-fbf9f745a99c",
   "metadata": {},
   "outputs": [],
   "source": []
  }
 ],
 "metadata": {
  "kernelspec": {
   "display_name": "Python 3 (ipykernel)",
   "language": "python",
   "name": "python3"
  },
  "language_info": {
   "codemirror_mode": {
    "name": "ipython",
    "version": 3
   },
   "file_extension": ".py",
   "mimetype": "text/x-python",
   "name": "python",
   "nbconvert_exporter": "python",
   "pygments_lexer": "ipython3",
   "version": "3.13.5"
  }
 },
 "nbformat": 4,
 "nbformat_minor": 5
}
